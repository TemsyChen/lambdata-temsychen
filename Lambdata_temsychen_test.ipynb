{
  "nbformat": 4,
  "nbformat_minor": 0,
  "metadata": {
    "colab": {
      "name": "Lambdata_temsychen_test.ipynb",
      "provenance": []
    },
    "kernelspec": {
      "name": "python3",
      "display_name": "Python 3"
    }
  },
  "cells": [
    {
      "cell_type": "code",
      "metadata": {
        "colab": {
          "base_uri": "https://localhost:8080/"
        },
        "id": "KpRPHlNgDvnK",
        "outputId": "14834be8-4292-4e15-b689-b8e4b1a274ff"
      },
      "source": [
        "!python --version\r\n",
        "\r\n",
        "!pip install -i https://test.pypi.org/simple/ --upgrade lambdata-temsychen"
      ],
      "execution_count": 10,
      "outputs": [
        {
          "output_type": "stream",
          "text": [
            "Python 3.6.9\n",
            "Looking in indexes: https://test.pypi.org/simple/\n",
            "Requirement already up-to-date: lambdata-temsychen in /usr/local/lib/python3.6/dist-packages (0.0.2)\n",
            "Requirement already satisfied, skipping upgrade: numpy in /usr/local/lib/python3.6/dist-packages (from lambdata-temsychen) (1.19.5)\n",
            "Requirement already satisfied, skipping upgrade: pandas in /usr/local/lib/python3.6/dist-packages (from lambdata-temsychen) (1.1.5)\n",
            "Requirement already satisfied, skipping upgrade: python-dateutil>=2.7.3 in /usr/local/lib/python3.6/dist-packages (from pandas->lambdata-temsychen) (2.8.1)\n",
            "Requirement already satisfied, skipping upgrade: pytz>=2017.2 in /usr/local/lib/python3.6/dist-packages (from pandas->lambdata-temsychen) (2018.9)\n",
            "Requirement already satisfied, skipping upgrade: six>=1.5 in /usr/local/lib/python3.6/dist-packages (from python-dateutil>=2.7.3->pandas->lambdata-temsychen) (1.15.0)\n"
          ],
          "name": "stdout"
        }
      ]
    },
    {
      "cell_type": "code",
      "metadata": {
        "id": "Ry3CNwUdEIEj"
      },
      "source": [
        "from lambdata_temsychen.helper_functions import null_count, randomize, train_split\r\n",
        "import pandas as pd\r\n",
        "from numpy import NaN"
      ],
      "execution_count": 11,
      "outputs": []
    },
    {
      "cell_type": "code",
      "metadata": {
        "colab": {
          "base_uri": "https://localhost:8080/"
        },
        "id": "nYo71vOuIADj",
        "outputId": "013799b5-ddbf-44d8-bc5b-2be6f64662c8"
      },
      "source": [
        "df = pd.DataFrame({'col0':[16, 34, 15, NaN],'col1':[NaN, NaN, 23, 8], 'col2':[11, 27, 99, NaN]})\r\n",
        "\r\n",
        "null_count(df)"
      ],
      "execution_count": 26,
      "outputs": [
        {
          "output_type": "stream",
          "text": [
            "4\n"
          ],
          "name": "stdout"
        }
      ]
    },
    {
      "cell_type": "code",
      "metadata": {
        "colab": {
          "base_uri": "https://localhost:8080/",
          "height": 173
        },
        "id": "tgwJBBFCLy8P",
        "outputId": "bbfa7560-2d5a-4afe-91ee-396e2ca2db8c"
      },
      "source": [
        "df"
      ],
      "execution_count": 27,
      "outputs": [
        {
          "output_type": "execute_result",
          "data": {
            "text/html": [
              "<div>\n",
              "<style scoped>\n",
              "    .dataframe tbody tr th:only-of-type {\n",
              "        vertical-align: middle;\n",
              "    }\n",
              "\n",
              "    .dataframe tbody tr th {\n",
              "        vertical-align: top;\n",
              "    }\n",
              "\n",
              "    .dataframe thead th {\n",
              "        text-align: right;\n",
              "    }\n",
              "</style>\n",
              "<table border=\"1\" class=\"dataframe\">\n",
              "  <thead>\n",
              "    <tr style=\"text-align: right;\">\n",
              "      <th></th>\n",
              "      <th>col0</th>\n",
              "      <th>col1</th>\n",
              "      <th>col2</th>\n",
              "    </tr>\n",
              "  </thead>\n",
              "  <tbody>\n",
              "    <tr>\n",
              "      <th>0</th>\n",
              "      <td>16.0</td>\n",
              "      <td>NaN</td>\n",
              "      <td>11.0</td>\n",
              "    </tr>\n",
              "    <tr>\n",
              "      <th>1</th>\n",
              "      <td>34.0</td>\n",
              "      <td>NaN</td>\n",
              "      <td>27.0</td>\n",
              "    </tr>\n",
              "    <tr>\n",
              "      <th>2</th>\n",
              "      <td>15.0</td>\n",
              "      <td>23.0</td>\n",
              "      <td>99.0</td>\n",
              "    </tr>\n",
              "    <tr>\n",
              "      <th>3</th>\n",
              "      <td>NaN</td>\n",
              "      <td>8.0</td>\n",
              "      <td>NaN</td>\n",
              "    </tr>\n",
              "  </tbody>\n",
              "</table>\n",
              "</div>"
            ],
            "text/plain": [
              "   col0  col1  col2\n",
              "0  16.0   NaN  11.0\n",
              "1  34.0   NaN  27.0\n",
              "2  15.0  23.0  99.0\n",
              "3   NaN   8.0   NaN"
            ]
          },
          "metadata": {
            "tags": []
          },
          "execution_count": 27
        }
      ]
    },
    {
      "cell_type": "code",
      "metadata": {
        "colab": {
          "base_uri": "https://localhost:8080/",
          "height": 173
        },
        "id": "-Pkb5lwhLrJI",
        "outputId": "967c6bc9-81a3-4d88-d38d-ed8afcd65a2d"
      },
      "source": [
        "randomize(df, 37)"
      ],
      "execution_count": 28,
      "outputs": [
        {
          "output_type": "execute_result",
          "data": {
            "text/html": [
              "<div>\n",
              "<style scoped>\n",
              "    .dataframe tbody tr th:only-of-type {\n",
              "        vertical-align: middle;\n",
              "    }\n",
              "\n",
              "    .dataframe tbody tr th {\n",
              "        vertical-align: top;\n",
              "    }\n",
              "\n",
              "    .dataframe thead th {\n",
              "        text-align: right;\n",
              "    }\n",
              "</style>\n",
              "<table border=\"1\" class=\"dataframe\">\n",
              "  <thead>\n",
              "    <tr style=\"text-align: right;\">\n",
              "      <th></th>\n",
              "      <th>col0</th>\n",
              "      <th>col1</th>\n",
              "      <th>col2</th>\n",
              "    </tr>\n",
              "  </thead>\n",
              "  <tbody>\n",
              "    <tr>\n",
              "      <th>2</th>\n",
              "      <td>15.0</td>\n",
              "      <td>23.0</td>\n",
              "      <td>99.0</td>\n",
              "    </tr>\n",
              "    <tr>\n",
              "      <th>1</th>\n",
              "      <td>34.0</td>\n",
              "      <td>NaN</td>\n",
              "      <td>27.0</td>\n",
              "    </tr>\n",
              "    <tr>\n",
              "      <th>0</th>\n",
              "      <td>16.0</td>\n",
              "      <td>NaN</td>\n",
              "      <td>11.0</td>\n",
              "    </tr>\n",
              "    <tr>\n",
              "      <th>3</th>\n",
              "      <td>NaN</td>\n",
              "      <td>8.0</td>\n",
              "      <td>NaN</td>\n",
              "    </tr>\n",
              "  </tbody>\n",
              "</table>\n",
              "</div>"
            ],
            "text/plain": [
              "   col0  col1  col2\n",
              "2  15.0  23.0  99.0\n",
              "1  34.0   NaN  27.0\n",
              "0  16.0   NaN  11.0\n",
              "3   NaN   8.0   NaN"
            ]
          },
          "metadata": {
            "tags": []
          },
          "execution_count": 28
        }
      ]
    },
    {
      "cell_type": "code",
      "metadata": {
        "colab": {
          "base_uri": "https://localhost:8080/"
        },
        "id": "YUdNiuHiKF2F",
        "outputId": "673f33be-dda6-4f63-e4fe-8124d29df9f1"
      },
      "source": [
        "df = pd.read_csv(\r\n",
        "        \"https://archive.ics.uci.edu/ml/machine-learning-databases/adult/adult.data\")\r\n",
        "\r\n",
        "print('Train test split:\\n', train_split(df, .8))"
      ],
      "execution_count": 22,
      "outputs": [
        {
          "output_type": "stream",
          "text": [
            "Train test split:\n",
            " (       39   State-gov   77516      Bachelors  ...   0  40   United-States   <=50K\n",
            "12464  49     Private  140121        HS-grad  ...   0  50   United-States   <=50K\n",
            "18438  57     Private  158827        HS-grad  ...   0  40   United-States   <=50K\n",
            "31038  17     Private  160049           10th  ...   0  12   United-States   <=50K\n",
            "2608   45   State-gov  102308   Some-college  ...   0  40   United-States   <=50K\n",
            "28656  46     Private  465974           11th  ...   0  30   United-States   <=50K\n",
            "...    ..         ...     ...            ...  ...  ..  ..             ...     ...\n",
            "988    51     Private  122159   Some-college  ...   0  40   United-States   <=50K\n",
            "30971  21     Private  211391   Some-college  ...   0  27   United-States   <=50K\n",
            "9036   22     Private  161532   Some-college  ...   0  35   United-States   <=50K\n",
            "20843  50     Private  108446   Some-college  ...   0  40   United-States   <=50K\n",
            "1935   38   Local-gov  255454      Bachelors  ...   0  40   United-States   <=50K\n",
            "\n",
            "[26048 rows x 15 columns],        39          State-gov   77516  ...  40   United-States   <=50K\n",
            "23751  36          State-gov  183735  ...  40   United-States    >50K\n",
            "22267  69            Private  125437  ...  32   United-States   <=50K\n",
            "27695  26            Private  177147  ...  40   United-States   <=50K\n",
            "6451   26            Private  159732  ...  52   United-States   <=50K\n",
            "24698  52   Self-emp-not-inc  174752  ...  40   United-States   <=50K\n",
            "...    ..                ...     ...  ...  ..             ...     ...\n",
            "10450  18            Private  312353  ...  20   United-States   <=50K\n",
            "3714   21            Private  344891  ...  20   United-States   <=50K\n",
            "12323  46            Private  132912  ...  45   United-States    >50K\n",
            "10481  42       Self-emp-inc  130126  ...  40   United-States    >50K\n",
            "31163  49            Private   34545  ...  40   United-States    >50K\n",
            "\n",
            "[6512 rows x 15 columns])\n"
          ],
          "name": "stdout"
        }
      ]
    }
  ]
}